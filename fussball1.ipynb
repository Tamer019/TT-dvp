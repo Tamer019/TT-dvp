{
 "cells": [
  {
   "cell_type": "code",
   "execution_count": 1,
   "metadata": {},
   "outputs": [
    {
     "name": "stdout",
     "output_type": "stream",
     "text": [
      "pygame 2.6.0 (SDL 2.28.4, Python 3.12.3)\n",
      "Hello from the pygame community. https://www.pygame.org/contribute.html\n"
     ]
    },
    {
     "ename": "SystemExit",
     "evalue": "",
     "output_type": "error",
     "traceback": [
      "An exception has occurred, use %tb to see the full traceback.\n",
      "\u001b[0;31mSystemExit\u001b[0m\n"
     ]
    },
    {
     "name": "stderr",
     "output_type": "stream",
     "text": [
      "/Users/tamer/Desktop/Python/venv/lib/python3.12/site-packages/IPython/core/interactiveshell.py:3585: UserWarning: To exit: use 'exit', 'quit', or Ctrl-D.\n",
      "  warn(\"To exit: use 'exit', 'quit', or Ctrl-D.\", stacklevel=1)\n"
     ]
    },
    {
     "ename": "",
     "evalue": "",
     "output_type": "error",
     "traceback": [
      "\u001b[1;31mDer Kernel ist beim Ausführen von Code in der aktuellen Zelle oder einer vorherigen Zelle abgestürzt. Bitte überprüfen Sie den Code in der/den Zelle(n), um eine mögliche Fehlerursache zu identifizieren. Klicken Sie <a href='https://aka.ms/vscodeJupyterKernelCrash'>hier</a>, um weitere Informationen zu erhalten. Weitere Details finden Sie in Jupyter <a href='command:jupyter.viewOutput'>log</a>."
     ]
    }
   ],
   "source": [
    "import pygame\n",
    "import sys\n",
    "import math\n",
    "\n",
    "# Initialisierung von Pygame\n",
    "pygame.init()\n",
    "\n",
    "# Konstanten\n",
    "WINDOW_WIDTH = 800\n",
    "WINDOW_HEIGHT = 600\n",
    "PLAYER_RADIUS = 15\n",
    "BALL_RADIUS = 10\n",
    "PLAYER_COLOR = (255, 0, 0)  # Rot\n",
    "BALL_COLOR = (0, 0, 255)    # Blau\n",
    "PLAYER_SPEED = 2\n",
    "BALL_SPEED = 5\n",
    "FRICTION = 0.98  # Luftwiderstand\n",
    "\n",
    "# Farben\n",
    "WHITE = (255, 255, 255)\n",
    "\n",
    "# Bildschirm erstellen\n",
    "screen = pygame.display.set_mode((WINDOW_WIDTH, WINDOW_HEIGHT))\n",
    "pygame.display.set_caption('2D Fußballspiel mit Stadion')\n",
    "\n",
    "# Laden des Hintergrundbildes\n",
    "field_image = pygame.image.load('fussballfeld.jpeg')\n",
    "field_image = pygame.transform.scale(field_image, (WINDOW_WIDTH, WINDOW_HEIGHT))\n",
    "\n",
    "\n",
    "# Spielerposition\n",
    "player_x = WINDOW_WIDTH // 2\n",
    "player_y = WINDOW_HEIGHT // 2\n",
    "\n",
    "# Ballposition und Geschwindigkeit\n",
    "ball_x = WINDOW_WIDTH // 2\n",
    "ball_y = WINDOW_HEIGHT // 2\n",
    "ball_dx = 0\n",
    "ball_dy = 0\n",
    "\n",
    "# Hauptschleife des Spiels\n",
    "def main():\n",
    "    global player_x, player_y, ball_x, ball_y, ball_dx, ball_dy\n",
    "    running = True\n",
    "    while running:\n",
    "        for event in pygame.event.get():\n",
    "            if event.type == pygame.QUIT:\n",
    "                running = False\n",
    "\n",
    "        # Bewegung des Spielers\n",
    "        keys = pygame.key.get_pressed()\n",
    "        if keys[pygame.K_w]:\n",
    "            player_y -= PLAYER_SPEED\n",
    "        if keys[pygame.K_s]:\n",
    "            player_y += PLAYER_SPEED\n",
    "        if keys[pygame.K_a]:\n",
    "            player_x -= PLAYER_SPEED\n",
    "        if keys[pygame.K_d]:\n",
    "            player_x += PLAYER_SPEED\n",
    "\n",
    "        # Begrenzung der Spielerposition an den Fenstergrenzen\n",
    "        player_x = max(PLAYER_RADIUS, min(WINDOW_WIDTH - PLAYER_RADIUS, player_x))\n",
    "        player_y = max(PLAYER_RADIUS, min(WINDOW_HEIGHT - PLAYER_RADIUS, player_y))\n",
    "\n",
    "        # Ballbewegung\n",
    "        ball_x += ball_dx\n",
    "        ball_y += ball_dy\n",
    "\n",
    "        # Ball verlangsamt sich aufgrund des Luftwiderstands\n",
    "        ball_dx *= FRICTION\n",
    "        ball_dy *= FRICTION\n",
    "\n",
    "        # Ball in der Mitte respawnen, wenn er das Spielfeld verlässt\n",
    "        if ball_x < BALL_RADIUS or ball_x > WINDOW_WIDTH - BALL_RADIUS or ball_y < BALL_RADIUS or ball_y > WINDOW_HEIGHT - BALL_RADIUS:\n",
    "            ball_x = WINDOW_WIDTH // 2\n",
    "            ball_y = WINDOW_HEIGHT // 2\n",
    "            ball_dx = 0\n",
    "            ball_dy = 0\n",
    "\n",
    "        # Kollisionsprüfung Spieler-Ball\n",
    "        distance = math.sqrt((player_x - ball_x) ** 2 + (player_y - ball_y) ** 2)\n",
    "        if distance < PLAYER_RADIUS + BALL_RADIUS:\n",
    "            # Richtung des Schusses basierend auf der Spielerbewegung\n",
    "            angle = math.atan2(ball_y - player_y, ball_x - player_x)\n",
    "            ball_dx = BALL_SPEED * math.cos(angle)\n",
    "            ball_dy = BALL_SPEED * math.sin(angle)\n",
    "\n",
    "        # Bildschirm mit dem Hintergrundbild füllen\n",
    "        screen.blit(field_image, (0, 0))\n",
    "\n",
    "        # Spieler und Ball zeichnen\n",
    "        pygame.draw.circle(screen, PLAYER_COLOR, (int(player_x), int(player_y)), PLAYER_RADIUS)\n",
    "        pygame.draw.circle(screen, BALL_COLOR, (int(ball_x), int(ball_y)), BALL_RADIUS)\n",
    "\n",
    "        # Bildschirm aktualisieren\n",
    "        pygame.display.flip()\n",
    "\n",
    "        # Beispiel für Grenzkontrolle\n",
    "        if player_x < PLAYER_RADIUS:\n",
    "            player_x = PLAYER_RADIUS\n",
    "        if player_x > WINDOW_WIDTH - PLAYER_RADIUS:\n",
    "            player_x = WINDOW_WIDTH - PLAYER_RADIUS\n",
    "        if player_y < PLAYER_RADIUS:\n",
    "            player_y = PLAYER_RADIUS\n",
    "        if player_y > WINDOW_HEIGHT - PLAYER_RADIUS:\n",
    "            player_y = WINDOW_HEIGHT - PLAYER_RADIUS\n",
    "\n",
    "    pygame.quit()\n",
    "    sys.exit()\n",
    "\n",
    "if __name__ == \"__main__\":\n",
    "    main()"
   ]
  }
 ],
 "metadata": {
  "kernelspec": {
   "display_name": "venv",
   "language": "python",
   "name": "python3"
  },
  "language_info": {
   "codemirror_mode": {
    "name": "ipython",
    "version": 3
   },
   "file_extension": ".py",
   "mimetype": "text/x-python",
   "name": "python",
   "nbconvert_exporter": "python",
   "pygments_lexer": "ipython3",
   "version": "3.12.3"
  }
 },
 "nbformat": 4,
 "nbformat_minor": 2
}
